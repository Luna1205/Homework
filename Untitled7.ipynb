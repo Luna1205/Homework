{
 "cells": [
  {
   "cell_type": "code",
   "execution_count": 1,
   "id": "206509da",
   "metadata": {},
   "outputs": [
    {
     "name": "stdout",
     "output_type": "stream",
     "text": [
      "Number 1:  3\n",
      "Number 2:  4\n",
      "Number 3:  5\n"
     ]
    },
    {
     "data": {
      "text/plain": [
       "4.0"
      ]
     },
     "execution_count": 1,
     "metadata": {},
     "output_type": "execute_result"
    }
   ],
   "source": [
    "def average(num1,num2,num3):\n",
    "    print(\"Number 1: \", num1) \n",
    "    print(\"Number 2: \", num2)\n",
    "    print(\"Number 3: \", num3)\n",
    "    addition = (num1 + num2+num3)/3    #  Function body\n",
    "    return addition\n",
    "\n",
    "average(3,4,5)"
   ]
  },
  {
   "cell_type": "code",
   "execution_count": 2,
   "id": "fc4f9d72",
   "metadata": {},
   "outputs": [
    {
     "name": "stdout",
     "output_type": "stream",
     "text": [
      "area: 10.0\n"
     ]
    }
   ],
   "source": [
    "def a(h,b,l):\n",
    "    area=(h*b)/2\n",
    "    return area\n",
    "print('area:',a(4,5,6))"
   ]
  },
  {
   "cell_type": "code",
   "execution_count": 3,
   "id": "628a2579",
   "metadata": {},
   "outputs": [
    {
     "name": "stdout",
     "output_type": "stream",
     "text": [
      "maximum: 6\n",
      "minimum: 5\n"
     ]
    }
   ],
   "source": [
    "def calculator(num1, num2):\n",
    "   \n",
    "    maximum=max(num1,num2)\n",
    "    minimum=min(num1,num2)\n",
    "    return maximum,minimum\n",
    "\n",
    "x,y=calculator(5,6)\n",
    "\n",
    "\n",
    "print(\"maximum:\",x)\n",
    "print(\"minimum:\",y)"
   ]
  },
  {
   "cell_type": "code",
   "execution_count": 4,
   "id": "7993c89e",
   "metadata": {},
   "outputs": [
    {
     "name": "stdout",
     "output_type": "stream",
     "text": [
      "3.141592653589793\n",
      "area_of_circle: 28.274333882308138\n",
      "perimeter_of_circle: 18.84955592153876\n"
     ]
    }
   ],
   "source": [
    "import math\n",
    "math.pi\n",
    "print(math.pi)\n",
    "\n",
    "def area_of_circle(π,r):\n",
    "    \n",
    "    area = π * r * r \n",
    "    perimeter = 2 * π * r\n",
    "    return area,perimeter\n",
    "\n",
    "area,perimeter=area_of_circle(math.pi,3)\n",
    "\n",
    "\n",
    "print(\"area_of_circle:\",area)\n",
    "print(\"perimeter_of_circle:\",perimeter)"
   ]
  },
  {
   "cell_type": "code",
   "execution_count": 5,
   "id": "ae8be9a1",
   "metadata": {},
   "outputs": [
    {
     "name": "stdout",
     "output_type": "stream",
     "text": [
      "abc is not number types\n",
      "21\n"
     ]
    }
   ],
   "source": [
    "def add_all_nums(list1):\n",
    "    sum=0\n",
    "    for i in list1:\n",
    "        \n",
    "        if type(i) == int:\n",
    "            sum=sum+i\n",
    "        else:\n",
    "            print(i,'is not number types')\n",
    "    return sum\n",
    "\n",
    "print(add_all_nums([1,2,5,8,'abc',5]))"
   ]
  },
  {
   "cell_type": "code",
   "execution_count": 6,
   "id": "bd5ede1a",
   "metadata": {},
   "outputs": [
    {
     "name": "stdout",
     "output_type": "stream",
     "text": [
      "125.6\n"
     ]
    }
   ],
   "source": [
    "def convert_celsius_2_fahrenheit(C):\n",
    "    F = (C * 9/5) + 32\n",
    "    return F\n",
    "\n",
    "print(convert_celsius_2_fahrenheit(52))"
   ]
  },
  {
   "cell_type": "code",
   "execution_count": 7,
   "id": "26d76bb4",
   "metadata": {},
   "outputs": [
    {
     "name": "stdout",
     "output_type": "stream",
     "text": [
      "please input a month:  10\n",
      "winter\n",
      "10\n"
     ]
    }
   ],
   "source": [
    "def check_season(a):\n",
    "    a=int(input('please input a month:  ') )\n",
    "    if a in range(1,4):\n",
    "        print('spring')\n",
    "    elif a in range(4,7):\n",
    "        print('summer')\n",
    "    elif a in range(7,10):\n",
    "        print('autumn')\n",
    "    elif a in range(10,13):\n",
    "        print('winter')\n",
    "    else:\n",
    "        print(input('please input a number from 1 to 12')) \n",
    "    return a\n",
    "print(check_season(a))"
   ]
  },
  {
   "cell_type": "code",
   "execution_count": 8,
   "id": "995b79a0",
   "metadata": {},
   "outputs": [
    {
     "name": "stdout",
     "output_type": "stream",
     "text": [
      "a*x+b*y+c==0\n",
      "-0.5\n"
     ]
    }
   ],
   "source": [
    "print('a*x+b*y+c==0')\n",
    "def calculate_slope(a,b,c):\n",
    "    \n",
    "    k=-(a/b)\n",
    "    return k\n",
    "print(calculate_slope(1,2,3))"
   ]
  },
  {
   "cell_type": "code",
   "execution_count": 10,
   "id": "8724c077",
   "metadata": {},
   "outputs": [
    {
     "name": "stdout",
     "output_type": "stream",
     "text": [
      "请输入a的值：1\n",
      "请输入b的值：-5\n",
      "请输入c的值：6\n",
      "x1= 3.0 \t x2= 2.0\n",
      "(3.0, 2.0)\n"
     ]
    }
   ],
   "source": [
    "def solve_quadratic_eqn(a,b,c):\n",
    "    a = float(input(\"请输入a的值：\"))\n",
    "    b = float(input(\"请输入b的值：\"))\n",
    "    c = float(input(\"请输入c的值：\"))\n",
    "    d=b**2-4*a*c\n",
    "    if (d<0):\n",
    "        print(\"无解\")\n",
    "    else:\n",
    "        e = math.sqrt(d)\n",
    "        x1=((-b+e)/(2*a))#调用math模块中sqrt开平方函数\n",
    "        x2=((-b-e)/(2*a))\n",
    "    print(\"x1=\",x1,\"\\t\",\"x2=\",x2)\n",
    "    return x1,x2\n",
    "print(solve_quadratic_eqn(a,a,a))"
   ]
  },
  {
   "cell_type": "code",
   "execution_count": 11,
   "id": "62550331",
   "metadata": {},
   "outputs": [
    {
     "name": "stdout",
     "output_type": "stream",
     "text": [
      "apple\n",
      "2\n",
      "3\n",
      "None\n"
     ]
    }
   ],
   "source": [
    "def print_list():\n",
    "    list1=(['apple',2,3])\n",
    "    for i in list1:\n",
    "        print(i)\n",
    "print(print_list())"
   ]
  },
  {
   "cell_type": "code",
   "execution_count": 12,
   "id": "59c667de",
   "metadata": {},
   "outputs": [
    {
     "name": "stdout",
     "output_type": "stream",
     "text": [
      "5\n",
      "4\n",
      "3\n",
      "2\n",
      "1\n",
      "None\n"
     ]
    }
   ],
   "source": [
    "def reverse_list(list1):\n",
    "    list1=[1,2,3,4,5]\n",
    "\n",
    "    for i in reversed(list1):\n",
    "        print(i)\n",
    "\n",
    "print(reverse_list([1,2,3,4,5]))"
   ]
  },
  {
   "cell_type": "code",
   "execution_count": 13,
   "id": "d7f1e58b",
   "metadata": {},
   "outputs": [
    {
     "name": "stdout",
     "output_type": "stream",
     "text": [
      "C\n",
      "B\n",
      "A\n",
      "None\n"
     ]
    }
   ],
   "source": [
    "def reverse_list():\n",
    "    list2=[\"A\", \"B\", \"C\"]\n",
    "    for i in reversed(list2):\n",
    "        print(i)  \n",
    "print(reverse_list())"
   ]
  },
  {
   "cell_type": "code",
   "execution_count": 14,
   "id": "58a2732f",
   "metadata": {},
   "outputs": [
    {
     "name": "stdout",
     "output_type": "stream",
     "text": [
      "-2.0\n",
      "both intercept of x and y axis is 0\n",
      "pls enter the coefficient of function4\n",
      "pls enter the constant of function6\n",
      "the interceptx of the function is -3.0\n",
      "the intercepty of the function is 6\n"
     ]
    }
   ],
   "source": [
    "import numpy as np\n",
    "np.random.seed(0)\n",
    "charlie=np.random.rand(2)\n",
    "x1=charlie[0]\n",
    "x2=charlie[1]\n",
    "y1=-2*x1\n",
    "y2=-2*x2\n",
    "slope=(y2-y1)/(x2-x1)\n",
    "print(slope)\n",
    "print(\"both intercept of x and y axis is 0\")\n",
    "delta=int(input('pls enter the coefficient of function'))\n",
    "echo=int(input('pls enter the constant of function'))\n",
    "np.random.seed(1)\n",
    "fox=np.random.rand(2)\n",
    "x3=fox[0]\n",
    "x4=fox[1]\n",
    "y3=delta*x2+echo\n",
    "y4=delta*x2+echo\n",
    "if x4-x3 == 0:\n",
    "    print('you cant divide by zero')\n",
    "else:\n",
    "   slope2=(y4-y3)/(x4-x3)\n",
    "   interceptx=-echo/2\n",
    "   intercepty=echo\n",
    "   print('the interceptx of the function is {zxc}'.format(zxc=interceptx))\n",
    "   print('the intercepty of the function is {vbn}'.format(vbn=intercepty))"
   ]
  },
  {
   "cell_type": "code",
   "execution_count": 15,
   "id": "b2e76d5a",
   "metadata": {},
   "outputs": [
    {
     "name": "stdout",
     "output_type": "stream",
     "text": [
      "pls enter your x112\n",
      "pls enter your x216\n",
      "pls enter your y114\n",
      "pls enter your y226\n",
      "3.0\n"
     ]
    }
   ],
   "source": [
    "def slope(a,b,c,d):\n",
    "    if b-a==0:\n",
    "        return('invalid data')\n",
    "    else:\n",
    "       slp=(d-c)/(b-a)\n",
    "       return slp\n",
    "x5=int(input('pls enter your x1'))\n",
    "x6=int(input('pls enter your x2'))\n",
    "y5=int(input('pls enter your y1'))\n",
    "y6=int(input('pls enter your y2'))\n",
    "cosequence=slope(x5,x6,y5,y6)\n",
    "print(cosequence)"
   ]
  },
  {
   "cell_type": "code",
   "execution_count": 16,
   "id": "36e0daed",
   "metadata": {},
   "outputs": [
    {
     "name": "stdout",
     "output_type": "stream",
     "text": [
      "pls enter your x1 to calculate euclidean2\n",
      "pls enter your x2 to calculate euclidean3\n",
      "pls enter your y1 to calculate euclidean4\n",
      "pls enter your y2 to calculate euclidean5\n",
      "1.4142135623730951\n",
      "True\n",
      "True\n",
      "True\n",
      "6.0\n"
     ]
    }
   ],
   "source": [
    "import math\n",
    "def euclidean(a,b,c,d):\n",
    "    eul=math.sqrt((a-b)**2+(c-d)**2)\n",
    "    return eul\n",
    "x7=int(input('pls enter your x1 to calculate euclidean'))\n",
    "x8=int(input('pls enter your x2 to calculate euclidean'))\n",
    "y7=int(input('pls enter your y1 to calculate euclidean'))\n",
    "y8=int(input('pls enter your y2 to calculate euclidean'))\n",
    "euc=euclidean(x7,x8,y7,y8)\n",
    "print(euc)\n",
    "p=len('python')\n",
    "data=len('datascience')\n",
    "data>p\n",
    "q='on' in 'python'\n",
    "w='on' in 'cannon'\n",
    "e='jargon' in 'I hope this course is not full of jargon.'\n",
    "print(q)\n",
    "print(w)\n",
    "print(e)\n",
    "r=len('python')\n",
    "t=float(r)\n",
    "y=str(t)\n",
    "print(y)"
   ]
  },
  {
   "cell_type": "code",
   "execution_count": 17,
   "id": "e0d5eb16",
   "metadata": {},
   "outputs": [
    {
     "name": "stdout",
     "output_type": "stream",
     "text": [
      "pls enter a number to check wether it s even or odd5\n",
      "this is a odd number\n",
      "True\n",
      "False\n"
     ]
    }
   ],
   "source": [
    "def check(a):\n",
    "    if a%2==0:\n",
    "        return \"this is a even number\"\n",
    "    else:\n",
    "        return\"this is a odd number\"\n",
    "u=int(input('pls enter a number to check wether it s even or odd'))\n",
    "i=check(u)\n",
    "print(i)\n",
    "z=7//3\n",
    "x=int(2.7)\n",
    "j=z==x\n",
    "print(j)\n",
    "k='10'==10\n",
    "print(k)"
   ]
  },
  {
   "cell_type": "code",
   "execution_count": null,
   "id": "07a09929",
   "metadata": {},
   "outputs": [],
   "source": []
  }
 ],
 "metadata": {
  "kernelspec": {
   "display_name": "Python 3",
   "language": "python",
   "name": "python3"
  },
  "language_info": {
   "codemirror_mode": {
    "name": "ipython",
    "version": 3
   },
   "file_extension": ".py",
   "mimetype": "text/x-python",
   "name": "python",
   "nbconvert_exporter": "python",
   "pygments_lexer": "ipython3",
   "version": "3.8.8"
  }
 },
 "nbformat": 4,
 "nbformat_minor": 5
}
