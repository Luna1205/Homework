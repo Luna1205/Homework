{
 "cells": [
  {
   "cell_type": "code",
   "execution_count": 1,
   "id": "49eb60ed",
   "metadata": {},
   "outputs": [
    {
     "name": "stdout",
     "output_type": "stream",
     "text": [
      "[[ 1  2  3  4  5]\n",
      " [ 6  7  8  9 10]\n",
      " [11 12 13 14 15]\n",
      " [16 17 18 19 20]\n",
      " [21 22 23 24 25]\n",
      " [26 27 28 29 30]]\n",
      "[[11 12]\n",
      " [16 17]]\n",
      "[ 2  8 14 20]\n",
      "[4 5]\n",
      "[[24 25]\n",
      " [29 30]]\n"
     ]
    }
   ],
   "source": [
    "# Generate matrix:\n",
    "import numpy as np\n",
    "a=np.array([[1,2,3,4,5],[6,7,8,9,10],[11,12,13,14,15],\n",
    "           [16,17,18,19,20],[21,22,23,24,25],[26,27,28,29,30]])\n",
    "print(a)\n",
    "###    1  2  3  4  5\n",
    "###    6  7  8  9 10\n",
    "###   11 12 13 14 15\n",
    "###   16 17 18 19 20\n",
    "###   21 22 23 24 25\n",
    "###   26 27 28 29 30\n",
    "c=a[2:4,0:2]\n",
    "print(c)\n",
    "# Acces \n",
    "#        11 12\n",
    "#       16 17\n",
    "k=np.array([1,2,3,4])    \n",
    "print(a[np.arange(4),k])\n",
    "# Acces  \n",
    "#        2\n",
    "#          8\n",
    "#            14\n",
    "#              20\n",
    "print(a[0,-2:])\n",
    "# Acces        \n",
    "#                4  5\n",
    "print(a[-2:,-2:,])\n",
    "\n",
    "#               24 25\n",
    "#               29 30"
   ]
  },
  {
   "cell_type": "code",
   "execution_count": null,
   "id": "8924d31e",
   "metadata": {},
   "outputs": [],
   "source": []
  }
 ],
 "metadata": {
  "kernelspec": {
   "display_name": "Python 3",
   "language": "python",
   "name": "python3"
  },
  "language_info": {
   "codemirror_mode": {
    "name": "ipython",
    "version": 3
   },
   "file_extension": ".py",
   "mimetype": "text/x-python",
   "name": "python",
   "nbconvert_exporter": "python",
   "pygments_lexer": "ipython3",
   "version": "3.8.8"
  }
 },
 "nbformat": 4,
 "nbformat_minor": 5
}
