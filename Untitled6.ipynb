{
 "cells": [
  {
   "cell_type": "code",
   "execution_count": 1,
   "id": "3dd2fe93",
   "metadata": {},
   "outputs": [],
   "source": [
    "mix_fruits = {'Guava', 'Pear', 'Mango', 'Apple', 'Fig', 'Orange', 'Banana'}\n",
    "mix_fruits = {'Guava', 'Pear', 'Mango', 'Apple', 'Fig', 'Orange', 'Banana'}\n",
    "A = {19, 22, 24, 20, 25, 26}\n",
    "B = {19, 22, 20, 25, 26, 24, 28, 27}\n",
    "num = [22, 19, 24, 25, 26, 24, 25, 24]"
   ]
  },
  {
   "cell_type": "code",
   "execution_count": 2,
   "id": "d372c5b2",
   "metadata": {},
   "outputs": [
    {
     "name": "stdout",
     "output_type": "stream",
     "text": [
      "7\n"
     ]
    }
   ],
   "source": [
    "Len=len(mix_fruits)\n",
    "print(Len)"
   ]
  },
  {
   "cell_type": "code",
   "execution_count": 3,
   "id": "568cc96c",
   "metadata": {},
   "outputs": [
    {
     "name": "stdout",
     "output_type": "stream",
     "text": [
      "{'Banana', 'Orange', 'Apple', 'Guava', 'Mango', 'Pear', 'Fig'}\n"
     ]
    }
   ],
   "source": [
    "print(mix_fruits)"
   ]
  },
  {
   "cell_type": "code",
   "execution_count": 4,
   "id": "9682e386",
   "metadata": {},
   "outputs": [
    {
     "name": "stdout",
     "output_type": "stream",
     "text": [
      "{'Banana', 'Orange', 'Avocado', 'Apple', 'Guava', 'Mango', 'Dragon fruit', 'Pear', 'Fig'}\n"
     ]
    }
   ],
   "source": [
    "fruits_set={\"Dragon fruit\",\"Avocado\"}\n",
    "mix_fruits.update([\"Dragon fruit\",\"Avocado\"])\n",
    "print(mix_fruits)"
   ]
  },
  {
   "cell_type": "code",
   "execution_count": 5,
   "id": "c39f4be6",
   "metadata": {},
   "outputs": [
    {
     "name": "stdout",
     "output_type": "stream",
     "text": [
      "{'Avocado', 'Orange', 'Apple', 'Guava', 'Mango', 'Dragon fruit', 'Pear', 'Kiwi', 'Fig'}\n",
      "{'Avocado', 'Orange', 'Apple', 'Guava', 'Mango', 'Dragon fruit', 'Pear', 'Fig'}\n"
     ]
    }
   ],
   "source": [
    "mix_fruits = {'Guava', 'Kiwi', 'Banana', 'Pear', 'Mango', 'Avocado', 'Fig', 'Dragon fruit', 'Apple', 'Orange'}\n",
    "mix_fruits.remove('Banana')\n",
    "print(mix_fruits)\n",
    "mix_fruits.discard('Kiwi')\n",
    "print(mix_fruits)"
   ]
  },
  {
   "cell_type": "code",
   "execution_count": 6,
   "id": "b9f78c3f",
   "metadata": {},
   "outputs": [],
   "source": [
    "A = {\"a\",\"b\",\"c\",\"d\",\"e\"}\n",
    "B = {\"d\",\"e\",\"f\",\"g\",\"h\"}"
   ]
  },
  {
   "cell_type": "code",
   "execution_count": 7,
   "id": "f4d876bf",
   "metadata": {},
   "outputs": [
    {
     "name": "stdout",
     "output_type": "stream",
     "text": [
      "{'e', 'd', 'c', 'h', 'g', 'f', 'b', 'a'}\n"
     ]
    }
   ],
   "source": [
    "print(A|B)"
   ]
  },
  {
   "cell_type": "code",
   "execution_count": 8,
   "id": "bb88ac96",
   "metadata": {},
   "outputs": [
    {
     "name": "stdout",
     "output_type": "stream",
     "text": [
      "{'e', 'd'}\n"
     ]
    }
   ],
   "source": [
    "print(A&B)"
   ]
  },
  {
   "cell_type": "code",
   "execution_count": 9,
   "id": "74d6bd5c",
   "metadata": {},
   "outputs": [
    {
     "name": "stdout",
     "output_type": "stream",
     "text": [
      "False\n",
      "False\n"
     ]
    }
   ],
   "source": [
    "print(A.issubset(B))\n",
    "print(B.issubset(A))"
   ]
  },
  {
   "cell_type": "code",
   "execution_count": 10,
   "id": "f0642b47",
   "metadata": {},
   "outputs": [
    {
     "name": "stdout",
     "output_type": "stream",
     "text": [
      "{'h', 'g', 'f', 'b', 'a', 'c'}\n"
     ]
    }
   ],
   "source": [
    "print(A^B)"
   ]
  },
  {
   "cell_type": "code",
   "execution_count": 11,
   "id": "27ce4b2f",
   "metadata": {},
   "outputs": [
    {
     "name": "stdout",
     "output_type": "stream",
     "text": [
      "set()\n",
      "set()\n"
     ]
    }
   ],
   "source": [
    "A = {\"a\",\"b\",\"c\",\"d\",\"e\"}\n",
    "B = {\"d\",\"e\",\"f\",\"g\",\"h\"}\n",
    "A.clear()\n",
    "print(A)\n",
    "B.clear()\n",
    "print(B)"
   ]
  },
  {
   "cell_type": "code",
   "execution_count": 12,
   "id": "0d77e806",
   "metadata": {},
   "outputs": [
    {
     "name": "stdout",
     "output_type": "stream",
     "text": [
      "{'am', 'cum', 'to', 'researcher', 'people.', 'I', 'love', 'teacher', 'inspire', 'teach', 'and', 'a'}\n"
     ]
    }
   ],
   "source": [
    "string=\"I am a researcher cum teacher and I love to inspire and teach people.\"\n",
    "a=string.split()\n",
    "print(set(a))"
   ]
  },
  {
   "cell_type": "code",
   "execution_count": null,
   "id": "6fc39b34",
   "metadata": {},
   "outputs": [],
   "source": []
  }
 ],
 "metadata": {
  "kernelspec": {
   "display_name": "Python 3",
   "language": "python",
   "name": "python3"
  },
  "language_info": {
   "codemirror_mode": {
    "name": "ipython",
    "version": 3
   },
   "file_extension": ".py",
   "mimetype": "text/x-python",
   "name": "python",
   "nbconvert_exporter": "python",
   "pygments_lexer": "ipython3",
   "version": "3.8.8"
  }
 },
 "nbformat": 4,
 "nbformat_minor": 5
}
