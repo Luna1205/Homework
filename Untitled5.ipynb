{
 "cells": [
  {
   "cell_type": "code",
   "execution_count": 1,
   "id": "9eaf8c0e",
   "metadata": {},
   "outputs": [
    {
     "name": "stdout",
     "output_type": "stream",
     "text": [
      "Area : 78.5\n",
      "Perimeter : 31.400000000000002\n"
     ]
    }
   ],
   "source": [
    "def circle(r):\n",
    "    pi = 3.14\n",
    "    area = pi*(r**2)\n",
    "    perimeter = 2*r*pi\n",
    "    return area, perimeter\n",
    "a, b = circle(5)\n",
    "print('Area :',a)\n",
    "print('Perimeter :',b)"
   ]
  },
  {
   "cell_type": "code",
   "execution_count": 2,
   "id": "a8f662f3",
   "metadata": {},
   "outputs": [
    {
     "name": "stdout",
     "output_type": "stream",
     "text": [
      "6\n",
      "8\n",
      "1\n",
      "51\n",
      "66\n"
     ]
    }
   ],
   "source": [
    "def add_all_nums(list1):\n",
    "    sum = 0\n",
    "    for n in list1:\n",
    "        if type(n)==int:\n",
    "            sum=sum+n\n",
    "            print(n)\n",
    "        else:\n",
    "            print('false')\n",
    "    return sum\n",
    "print(add_all_nums([6,8,1,51]))"
   ]
  },
  {
   "cell_type": "code",
   "execution_count": 3,
   "id": "5280c1b1",
   "metadata": {},
   "outputs": [
    {
     "name": "stdout",
     "output_type": "stream",
     "text": [
      "60\n",
      "60  °C to  140.0 °F\n"
     ]
    }
   ],
   "source": [
    "C = input()\n",
    "def convert_celsius_2_fahrenheit(C):\n",
    "    F = (int(C)*9/5) + 32\n",
    "    return F\n",
    "print(C,' °C to ',convert_celsius_2_fahrenheit(C),'°F')"
   ]
  },
  {
   "cell_type": "code",
   "execution_count": 4,
   "id": "a4bd2cbc",
   "metadata": {},
   "outputs": [
    {
     "name": "stdout",
     "output_type": "stream",
     "text": [
      "6\n",
      "The season is Summer\n",
      "None\n"
     ]
    }
   ],
   "source": [
    "month = input()\n",
    "def check_season(month):\n",
    "    if month in['9','10','11']:\n",
    "        print('The season is Autumn')\n",
    "    elif month in['12','1','2']:\n",
    "        print('The season is Winter ')\n",
    "    elif month in['3','4','5']:\n",
    "        print('The season is Spring')\n",
    "    elif month in['6','7','8']:\n",
    "        print('The season is Summer')\n",
    "    else:\n",
    "        print('Eorror')\n",
    "    return None\n",
    "print(check_season(month))"
   ]
  },
  {
   "cell_type": "code",
   "execution_count": null,
   "id": "6f99302f",
   "metadata": {},
   "outputs": [],
   "source": []
  }
 ],
 "metadata": {
  "kernelspec": {
   "display_name": "Python 3",
   "language": "python",
   "name": "python3"
  },
  "language_info": {
   "codemirror_mode": {
    "name": "ipython",
    "version": 3
   },
   "file_extension": ".py",
   "mimetype": "text/x-python",
   "name": "python",
   "nbconvert_exporter": "python",
   "pygments_lexer": "ipython3",
   "version": "3.8.8"
  }
 },
 "nbformat": 4,
 "nbformat_minor": 5
}
