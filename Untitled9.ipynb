{
 "cells": [
  {
   "cell_type": "code",
   "execution_count": 4,
   "id": "2bdd3484",
   "metadata": {},
   "outputs": [
    {
     "name": "stdout",
     "output_type": "stream",
     "text": [
      "314.0\n"
     ]
    }
   ],
   "source": [
    "def area_of_circle (r):  # single parameter\n",
    "    PI = 3.14\n",
    "    area = PI * r ** 2\n",
    "    return area\n",
    "print(area_of_circle(10))"
   ]
  },
  {
   "cell_type": "code",
   "execution_count": 5,
   "id": "731d691e",
   "metadata": {},
   "outputs": [
    {
     "name": "stdout",
     "output_type": "stream",
     "text": [
      "62.800000000000004\n"
     ]
    }
   ],
   "source": [
    "def perimeter_of_circle(r):\n",
    "    PI = 3.14\n",
    "    perimeter=PI*2*r\n",
    "    return perimeter\n",
    "print(perimeter_of_circle(10))"
   ]
  },
  {
   "cell_type": "code",
   "execution_count": 6,
   "id": "ed771b63",
   "metadata": {},
   "outputs": [
    {
     "name": "stdout",
     "output_type": "stream",
     "text": [
      "55\n"
     ]
    }
   ],
   "source": [
    "def add_all_num(n):\n",
    "    total=0\n",
    "    for i in range(n+1):\n",
    "        total+=i\n",
    "    print(total)\n",
    "add_all_num(10)"
   ]
  },
  {
   "cell_type": "code",
   "execution_count": 7,
   "id": "27123544",
   "metadata": {},
   "outputs": [
    {
     "name": "stdout",
     "output_type": "stream",
     "text": [
      "-54.0\n"
     ]
    }
   ],
   "source": [
    "def calculator(F):\n",
    "    C=(F-32)*9/5\n",
    "    print(C)\n",
    "calculator(2)"
   ]
  },
  {
   "cell_type": "code",
   "execution_count": 8,
   "id": "c105faca",
   "metadata": {},
   "outputs": [
    {
     "name": "stdout",
     "output_type": "stream",
     "text": [
      "autumn 31\n",
      "winter 61\n",
      "spring 91\n",
      "summer 121\n"
     ]
    }
   ],
   "source": [
    "def check_season(a,b,c,d):\n",
    "    autumn=a+d\n",
    "    winter=a+d+b+c\n",
    "    spring=a+d+b+c+d\n",
    "    summer=a+d+b+c+d+d\n",
    "    return autumn,winter,spring,summer\n",
    "e,f,g,h=check_season(1,15,15,30)\n",
    "\n",
    "print('autumn',e)\n",
    "print('winter',f)\n",
    "print('spring',g)\n",
    "print('summer',h)"
   ]
  },
  {
   "cell_type": "code",
   "execution_count": 9,
   "id": "261baa59",
   "metadata": {},
   "outputs": [
    {
     "data": {
      "text/plain": [
       "2.0"
      ]
     },
     "execution_count": 9,
     "metadata": {},
     "output_type": "execute_result"
    }
   ],
   "source": [
    "def calculate_slope(x,y,b):\n",
    "    k=(y+b)/x\n",
    "    return k\n",
    "calculate_slope(3,8,-2)"
   ]
  },
  {
   "cell_type": "code",
   "execution_count": 10,
   "id": "b7b4f314",
   "metadata": {},
   "outputs": [
    {
     "data": {
      "text/plain": [
       "(-2.0, -4.0)"
      ]
     },
     "execution_count": 10,
     "metadata": {},
     "output_type": "execute_result"
    }
   ],
   "source": [
    "import math\n",
    "def calculator(a,b,c):\n",
    "    d=b**2-4*a*c\n",
    "    x1=(-b+math.sqrt(d))/(2*a)\n",
    "    x2=(-b-math.sqrt(d))/(2*a)\n",
    "    return x1,x2\n",
    "calculator(1,6,8)"
   ]
  },
  {
   "cell_type": "code",
   "execution_count": 11,
   "id": "f27d428e",
   "metadata": {},
   "outputs": [
    {
     "name": "stdout",
     "output_type": "stream",
     "text": [
      "0 1 2 3 4 5 6 7 8 9 "
     ]
    }
   ],
   "source": [
    "for i in range(10):\n",
    "        print(i,end=' ')"
   ]
  },
  {
   "cell_type": "code",
   "execution_count": 12,
   "id": "1fdb9e21",
   "metadata": {},
   "outputs": [
    {
     "name": "stdout",
     "output_type": "stream",
     "text": [
      "5\n",
      "4\n",
      "3\n",
      "2\n",
      "1\n"
     ]
    }
   ],
   "source": [
    "for i in (range(5,0,-1)):\n",
    "    print(i)"
   ]
  },
  {
   "cell_type": "code",
   "execution_count": 13,
   "id": "72a03b70",
   "metadata": {},
   "outputs": [
    {
     "name": "stdout",
     "output_type": "stream",
     "text": [
      "reverse_list1: ['C', 'B', 'A']\n"
     ]
    }
   ],
   "source": [
    "list1=['A','B','C']\n",
    "list1.reverse()\n",
    "print(\"reverse_list1:\",list1)"
   ]
  },
  {
   "cell_type": "code",
   "execution_count": 14,
   "id": "8416beee",
   "metadata": {},
   "outputs": [
    {
     "name": "stdout",
     "output_type": "stream",
     "text": [
      "['Potato', 'Tomato', 'Milk']\n"
     ]
    }
   ],
   "source": [
    "food_staff = ['Potato', 'Tomato', 'Mango', 'Milk']\n",
    "food_staff.remove('Mango')\n",
    "print(food_staff)"
   ]
  },
  {
   "cell_type": "code",
   "execution_count": 15,
   "id": "7281b2ef",
   "metadata": {},
   "outputs": [
    {
     "name": "stdout",
     "output_type": "stream",
     "text": [
      "[2, 7, 9]\n"
     ]
    }
   ],
   "source": [
    "numbers = [2, 3, 7, 9]\n",
    "numbers.remove(3)\n",
    "print(numbers)"
   ]
  },
  {
   "cell_type": "code",
   "execution_count": 16,
   "id": "ff3b06c6",
   "metadata": {},
   "outputs": [
    {
     "name": "stdout",
     "output_type": "stream",
     "text": [
      "15\n",
      "None\n",
      "55\n",
      "None\n",
      "5050\n",
      "None\n"
     ]
    }
   ],
   "source": [
    "def sum_of_nums(n):\n",
    "    total=0\n",
    "    for i in range (n+1):\n",
    "        total=total+i\n",
    "    print(total) \n",
    "print(sum_of_nums(5))\n",
    "print(sum_of_nums(10))\n",
    "print(sum_of_nums(100)) "
   ]
  },
  {
   "cell_type": "code",
   "execution_count": 17,
   "id": "b19e5a1e",
   "metadata": {},
   "outputs": [
    {
     "name": "stdout",
     "output_type": "stream",
     "text": [
      "30\n"
     ]
    }
   ],
   "source": [
    "def sum_of_even(n):\n",
    "    total=0\n",
    "    for i in range (n):\n",
    "        if i%2==0:\n",
    "            total=total+i\n",
    "    return total\n",
    "print(sum_of_even(11))"
   ]
  },
  {
   "cell_type": "code",
   "execution_count": 18,
   "id": "2b9a2deb",
   "metadata": {},
   "outputs": [
    {
     "name": "stdout",
     "output_type": "stream",
     "text": [
      "[0, 2, 4, 6, 8, 10, 12, 14, 16, 18, 20, 22, 24, 26, 28, 30, 32, 34, 36, 38, 40, 42, 44, 46, 48, 50, 52, 54, 56, 58, 60, 62, 64, 66, 68, 70, 72, 74, 76, 78, 80, 82, 84, 86, 88, 90, 92, 94, 96, 98, 100]\n"
     ]
    }
   ],
   "source": [
    "def even_and_numbers(n):\n",
    "    evens = []\n",
    "    for i in range(n + 1):\n",
    "        if i % 2 == 0:\n",
    "            evens.append(i)\n",
    "    return evens\n",
    "print(even_and_numbers(100))"
   ]
  },
  {
   "cell_type": "code",
   "execution_count": 19,
   "id": "e20ac310",
   "metadata": {},
   "outputs": [
    {
     "name": "stdout",
     "output_type": "stream",
     "text": [
      "[1, 3, 5, 7, 9, 11, 13, 15, 17, 19, 21, 23, 25, 27, 29, 31, 33, 35, 37, 39, 41, 43, 45, 47, 49, 51, 53, 55, 57, 59, 61, 63, 65, 67, 69, 71, 73, 75, 77, 79, 81, 83, 85, 87, 89, 91, 93, 95, 97, 99]\n"
     ]
    }
   ],
   "source": [
    "def even_and_numbers(n):\n",
    "    odds=[]\n",
    "    for i in range (n+1):\n",
    "        if i %2 !=0:\n",
    "            odds.append(i)\n",
    "    return odds\n",
    "print(even_and_numbers(100))"
   ]
  },
  {
   "cell_type": "code",
   "execution_count": 20,
   "id": "b6b25322",
   "metadata": {},
   "outputs": [
    {
     "name": "stdout",
     "output_type": "stream",
     "text": [
      "6\n"
     ]
    }
   ],
   "source": [
    "def factorial(n):\n",
    "    if n ==1:\n",
    "        return 1\n",
    "    else:\n",
    "        return (n*factorial(n-1))\n",
    "n=3\n",
    "print( factorial(n))"
   ]
  },
  {
   "cell_type": "code",
   "execution_count": 21,
   "id": "41b7198a",
   "metadata": {},
   "outputs": [
    {
     "name": "stdout",
     "output_type": "stream",
     "text": [
      " 100 is not a prime number！\n"
     ]
    }
   ],
   "source": [
    "def is_prime(n):\n",
    "    for i in range(2,n):\n",
    "        if n%i==0:\n",
    "            print(\" %d is not a prime number！\" % n)\n",
    "            break\n",
    "        else:\n",
    "            print(\" %d is a prime number！\" % n)\n",
    "is_prime(100)  "
   ]
  },
  {
   "cell_type": "code",
   "execution_count": 22,
   "id": "f86d1555",
   "metadata": {},
   "outputs": [
    {
     "name": "stdout",
     "output_type": "stream",
     "text": [
      "所有元素是唯一的\n"
     ]
    }
   ],
   "source": [
    "def unique(l):\n",
    "    l=[1,3,4,8,6,7]\n",
    "    if len(l)==len(set(l)):\n",
    "        print(\"所有元素是唯一的\")\n",
    "    else:\n",
    "        print(\"存在重复\")\n",
    "unique(\"1,3,4,8,6,7\")   "
   ]
  },
  {
   "cell_type": "code",
   "execution_count": 23,
   "id": "ba446ef1",
   "metadata": {},
   "outputs": [
    {
     "name": "stdout",
     "output_type": "stream",
     "text": [
      "None\n"
     ]
    }
   ],
   "source": [
    "total=0\n",
    "def fib(n):\n",
    "    total=0\n",
    "    for i in range(2,n):\n",
    "        if n%i!=0:\n",
    "            total=total+i  \n",
    "print(fib(5))"
   ]
  },
  {
   "cell_type": "code",
   "execution_count": 24,
   "id": "41456c06",
   "metadata": {},
   "outputs": [
    {
     "name": "stdout",
     "output_type": "stream",
     "text": [
      "2 is prime number\n",
      "3 is prime number\n",
      "5 is prime number\n",
      "7 is prime number\n",
      "11 is prime number\n",
      "13 is prime number\n",
      "17 is prime number\n",
      "19 is prime number\n",
      "23 is prime number\n",
      "29 is prime number\n",
      "31 is prime number\n",
      "37 is prime number\n",
      "41 is prime number\n",
      "43 is prime number\n",
      "47 is prime number\n",
      "53 is prime number\n",
      "59 is prime number\n",
      "61 is prime number\n",
      "67 is prime number\n",
      "71 is prime number\n",
      "73 is prime number\n",
      "79 is prime number\n",
      "83 is prime number\n",
      "89 is prime number\n",
      "97 is prime number\n"
     ]
    }
   ],
   "source": [
    "num = 2\n",
    "while(num < 100):\n",
    "    b = 2 \n",
    "    while(b <= (num/b)):\n",
    "        if (num % b == 0):\n",
    "            break\n",
    "        b = b + 1\n",
    "    if (b > num/b):\n",
    "        print(num,\"is prime number\")\n",
    "    num = num +1"
   ]
  },
  {
   "cell_type": "code",
   "execution_count": null,
   "id": "09f7f62f",
   "metadata": {},
   "outputs": [],
   "source": []
  }
 ],
 "metadata": {
  "kernelspec": {
   "display_name": "Python 3",
   "language": "python",
   "name": "python3"
  },
  "language_info": {
   "codemirror_mode": {
    "name": "ipython",
    "version": 3
   },
   "file_extension": ".py",
   "mimetype": "text/x-python",
   "name": "python",
   "nbconvert_exporter": "python",
   "pygments_lexer": "ipython3",
   "version": "3.8.8"
  }
 },
 "nbformat": 4,
 "nbformat_minor": 5
}
