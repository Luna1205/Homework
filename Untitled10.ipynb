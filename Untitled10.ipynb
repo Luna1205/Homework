{
 "cells": [
  {
   "cell_type": "code",
   "execution_count": 1,
   "id": "0460066f",
   "metadata": {},
   "outputs": [
    {
     "name": "stdout",
     "output_type": "stream",
     "text": [
      "1.20.1\n"
     ]
    },
    {
     "data": {
      "text/plain": [
       "<function numpy.__config__.show()>"
      ]
     },
     "execution_count": 1,
     "metadata": {},
     "output_type": "execute_result"
    }
   ],
   "source": [
    "import numpy as np\n",
    "print (np.__version__)\n",
    "np.show_config"
   ]
  },
  {
   "cell_type": "code",
   "execution_count": 2,
   "id": "e76a1d5c",
   "metadata": {},
   "outputs": [
    {
     "data": {
      "text/plain": [
       "array([ 2,  4,  6,  8, 10])"
      ]
     },
     "execution_count": 2,
     "metadata": {},
     "output_type": "execute_result"
    }
   ],
   "source": [
    "my_list = [2,4,6,8,10]\n",
    "numpy_array_from_list = np.array(my_list)\n",
    "numpy_array_from_list"
   ]
  },
  {
   "cell_type": "code",
   "execution_count": 3,
   "id": "8c0c51e1",
   "metadata": {},
   "outputs": [
    {
     "name": "stdout",
     "output_type": "stream",
     "text": [
      "[0. 0. 0. 0. 0. 0. 0. 0. 0.]\n"
     ]
    }
   ],
   "source": [
    "a=np.zeros((9))\n",
    "print(a)"
   ]
  },
  {
   "cell_type": "code",
   "execution_count": 4,
   "id": "aface799",
   "metadata": {},
   "outputs": [
    {
     "name": "stdout",
     "output_type": "stream",
     "text": [
      "4\n",
      "3\n"
     ]
    }
   ],
   "source": [
    "b = np.array([1,2,3])\n",
    "print(b.itemsize)\n",
    "print(b.size)"
   ]
  },
  {
   "cell_type": "code",
   "execution_count": 5,
   "id": "0992d624",
   "metadata": {},
   "outputs": [
    {
     "name": "stdout",
     "output_type": "stream",
     "text": [
      "add(x1, x2, /, out=None, *, where=True, casting='same_kind', order='K', dtype=None, subok=True[, signature, extobj])\n",
      "\n",
      "Add arguments element-wise.\n",
      "\n",
      "Parameters\n",
      "----------\n",
      "x1, x2 : array_like\n",
      "    The arrays to be added.\n",
      "    If ``x1.shape != x2.shape``, they must be broadcastable to a common\n",
      "    shape (which becomes the shape of the output).\n",
      "out : ndarray, None, or tuple of ndarray and None, optional\n",
      "    A location into which the result is stored. If provided, it must have\n",
      "    a shape that the inputs broadcast to. If not provided or None,\n",
      "    a freshly-allocated array is returned. A tuple (possible only as a\n",
      "    keyword argument) must have length equal to the number of outputs.\n",
      "where : array_like, optional\n",
      "    This condition is broadcast over the input. At locations where the\n",
      "    condition is True, the `out` array will be set to the ufunc result.\n",
      "    Elsewhere, the `out` array will retain its original value.\n",
      "    Note that if an uninitialized `out` array is created via the default\n",
      "    ``out=None``, locations within it where the condition is False will\n",
      "    remain uninitialized.\n",
      "**kwargs\n",
      "    For other keyword-only arguments, see the\n",
      "    :ref:`ufunc docs <ufuncs.kwargs>`.\n",
      "\n",
      "Returns\n",
      "-------\n",
      "add : ndarray or scalar\n",
      "    The sum of `x1` and `x2`, element-wise.\n",
      "    This is a scalar if both `x1` and `x2` are scalars.\n",
      "\n",
      "Notes\n",
      "-----\n",
      "Equivalent to `x1` + `x2` in terms of array broadcasting.\n",
      "\n",
      "Examples\n",
      "--------\n",
      ">>> np.add(1.0, 4.0)\n",
      "5.0\n",
      ">>> x1 = np.arange(9.0).reshape((3, 3))\n",
      ">>> x2 = np.arange(3.0)\n",
      ">>> np.add(x1, x2)\n",
      "array([[  0.,   2.,   4.],\n",
      "       [  3.,   5.,   7.],\n",
      "       [  6.,   8.,  10.]])\n",
      "\n",
      "The ``+`` operator can be used as a shorthand for ``np.add`` on ndarrays.\n",
      "\n",
      ">>> x1 = np.arange(9.0).reshape((3, 3))\n",
      ">>> x2 = np.arange(3.0)\n",
      ">>> x1 + x2\n",
      "array([[ 0.,  2.,  4.],\n",
      "       [ 3.,  5.,  7.],\n",
      "       [ 6.,  8., 10.]])\n"
     ]
    }
   ],
   "source": [
    "np.info(np.add)"
   ]
  },
  {
   "cell_type": "code",
   "execution_count": 6,
   "id": "989e82e2",
   "metadata": {},
   "outputs": [
    {
     "name": "stdout",
     "output_type": "stream",
     "text": [
      "[0. 0. 0. 0. 0. 0. 1. 0. 0. 0. 0. 0.]\n"
     ]
    }
   ],
   "source": [
    "c=np.zeros(12)\n",
    "c[6]=1\n",
    "print(c)"
   ]
  },
  {
   "cell_type": "code",
   "execution_count": 7,
   "id": "f8620b06",
   "metadata": {},
   "outputs": [
    {
     "name": "stdout",
     "output_type": "stream",
     "text": [
      "[20 21 22 23 24 25 26 27 28 29 30 31 32 33 34 35 36 37 38 39 40 41 42 43\n",
      " 44 45 46 47 48 49 50 51 52 53 54 55 56 57 58]\n"
     ]
    }
   ],
   "source": [
    "a=np.arange(20,59)\n",
    "print(a)"
   ]
  },
  {
   "cell_type": "code",
   "execution_count": 8,
   "id": "e8f290a3",
   "metadata": {},
   "outputs": [
    {
     "name": "stdout",
     "output_type": "stream",
     "text": [
      "[58 57 56 55 54 53 52 51 50 49 48 47 46 45 44 43 42 41 40 39 38 37 36 35\n",
      " 34 33 32 31 30 29 28 27 26 25 24 23 22 21 20]\n"
     ]
    }
   ],
   "source": [
    "b=np.arange(20,59)\n",
    "b=b[::-1]\n",
    "print(b)"
   ]
  },
  {
   "cell_type": "code",
   "execution_count": 9,
   "id": "cdbe762b",
   "metadata": {},
   "outputs": [
    {
     "name": "stdout",
     "output_type": "stream",
     "text": [
      "[[12 13 14]\n",
      " [15 16 17]\n",
      " [18 19 20]]\n"
     ]
    }
   ],
   "source": [
    "c=np.arange(12,21)\n",
    "c=c.reshape(3,3)\n",
    "print(c)"
   ]
  },
  {
   "cell_type": "code",
   "execution_count": 10,
   "id": "150a5f68",
   "metadata": {},
   "outputs": [
    {
     "name": "stdout",
     "output_type": "stream",
     "text": [
      "(array([0, 1, 4], dtype=int64),)\n"
     ]
    }
   ],
   "source": [
    "a=np.nonzero([3,7,0,0,9,0])\n",
    "print(a)"
   ]
  },
  {
   "cell_type": "code",
   "execution_count": 11,
   "id": "897cc335",
   "metadata": {},
   "outputs": [
    {
     "name": "stdout",
     "output_type": "stream",
     "text": [
      "[[1. 0. 0. 0.]\n",
      " [0. 1. 0. 0.]\n",
      " [0. 0. 1. 0.]\n",
      " [0. 0. 0. 1.]]\n"
     ]
    }
   ],
   "source": [
    "b=np.eye(4,4)\n",
    "print(b)"
   ]
  },
  {
   "cell_type": "code",
   "execution_count": 12,
   "id": "e51d42d1",
   "metadata": {},
   "outputs": [
    {
     "name": "stdout",
     "output_type": "stream",
     "text": [
      "[[[0.65524751 0.68048068]\n",
      "  [0.56415039 0.75864767]]\n",
      "\n",
      " [[0.23469501 0.69778641]\n",
      "  [0.94638369 0.36449159]]]\n"
     ]
    }
   ],
   "source": [
    "c=np.random.random((2,2,2))\n",
    "print(c)"
   ]
  },
  {
   "cell_type": "code",
   "execution_count": 13,
   "id": "91ea66b1",
   "metadata": {},
   "outputs": [
    {
     "name": "stdout",
     "output_type": "stream",
     "text": [
      "[[9.33162819e-01 8.71252783e-01 1.01976457e-01 4.25535973e-01\n",
      "  9.15566564e-02 1.73706040e-01 3.93304624e-01 8.09529929e-02\n",
      "  2.61022660e-01]\n",
      " [6.30730654e-01 2.86097043e-01 2.04415877e-01 7.97846707e-01\n",
      "  1.48900018e-01 8.27344628e-01 7.81646768e-01 2.58321688e-01\n",
      "  4.40906257e-02]\n",
      " [9.24403129e-01 8.50982464e-02 3.36959768e-01 7.79488057e-01\n",
      "  9.10595786e-01 8.70306929e-02 7.84403035e-01 7.81948443e-02\n",
      "  5.61564274e-01]\n",
      " [3.77748846e-01 2.51431858e-01 5.38653547e-02 6.16832638e-01\n",
      "  5.44364898e-01 8.41137325e-01 7.62270224e-01 4.58171606e-01\n",
      "  7.93792955e-01]\n",
      " [4.82146959e-01 5.10794507e-01 1.55811314e-01 1.89491530e-01\n",
      "  6.57220453e-01 3.91140984e-01 3.74658170e-01 4.12517357e-01\n",
      "  5.41269277e-01]\n",
      " [5.97532829e-01 5.34366020e-01 3.01226567e-01 9.06650195e-01\n",
      "  5.53242564e-01 8.06112482e-01 8.30259124e-01 2.60692506e-01\n",
      "  8.46659172e-01]\n",
      " [4.16298839e-01 5.22827027e-01 7.23485617e-01 1.35322207e-01\n",
      "  4.66425941e-01 1.52532709e-01 1.58272205e-01 1.80057280e-02\n",
      "  5.27699905e-01]\n",
      " [9.70242843e-04 6.39499361e-01 2.78315392e-01 7.30427647e-01\n",
      "  4.85073081e-01 9.81120709e-01 5.43160386e-01 9.65305014e-01\n",
      "  7.05533559e-01]\n",
      " [7.86396602e-01 9.80487043e-01 7.69582646e-01 6.64683506e-01\n",
      "  2.02817295e-01 2.63331756e-01 2.85542710e-01 4.06113817e-01\n",
      "  6.18544923e-03]]\n",
      "0.981120708724858 0.0009702428431951349\n"
     ]
    }
   ],
   "source": [
    "a=np.random.random((9,9))\n",
    "print(a)\n",
    "max=np.max(a)\n",
    "min=np.min(a)\n",
    "print(max,min)"
   ]
  },
  {
   "cell_type": "code",
   "execution_count": 14,
   "id": "0d4a2287",
   "metadata": {},
   "outputs": [
    {
     "name": "stdout",
     "output_type": "stream",
     "text": [
      "[0.14416228 0.85283567 0.01434602 0.94821934 0.34030532 0.15887641\n",
      " 0.67144883 0.83218383 0.96850733 0.55315963 0.78704774 0.28438512\n",
      " 0.55920144 0.05362486 0.78107922 0.91898764 0.15308987 0.37805768\n",
      " 0.21247711 0.29132259]\n",
      "0.49516589748648493 0.49516589748648493\n"
     ]
    }
   ],
   "source": [
    "b=np.random.random(20)\n",
    "print(b)\n",
    "avg0=np.average(b)\n",
    "avg1=np.mean(b)\n",
    "print(avg0,avg1)"
   ]
  },
  {
   "cell_type": "code",
   "execution_count": 15,
   "id": "a0cc8b10",
   "metadata": {},
   "outputs": [
    {
     "name": "stdout",
     "output_type": "stream",
     "text": [
      "[[1. 1. 1. 1. 1.]\n",
      " [1. 0. 0. 0. 1.]\n",
      " [1. 0. 0. 0. 1.]\n",
      " [1. 0. 0. 0. 1.]\n",
      " [1. 1. 1. 1. 1.]]\n"
     ]
    }
   ],
   "source": [
    "c=np.ones((5,5))\n",
    "c[1:-1, 1:-1]=0\n",
    "print(c)"
   ]
  },
  {
   "cell_type": "code",
   "execution_count": 16,
   "id": "fe155cf8",
   "metadata": {},
   "outputs": [
    {
     "name": "stdout",
     "output_type": "stream",
     "text": [
      "[[0. 0. 0. 0. 0. 0. 0.]\n",
      " [0. 1. 1. 1. 1. 1. 0.]\n",
      " [0. 1. 1. 1. 1. 1. 0.]\n",
      " [0. 1. 1. 1. 1. 1. 0.]\n",
      " [0. 1. 1. 1. 1. 1. 0.]\n",
      " [0. 1. 1. 1. 1. 1. 0.]\n",
      " [0. 0. 0. 0. 0. 0. 0.]]\n",
      "[[0. 0. 0. 0. 0.]\n",
      " [0. 0. 0. 0. 0.]\n",
      " [0. 0. 0. 0. 0.]\n",
      " [0. 0. 0. 0. 0.]\n",
      " [0. 0. 0. 0. 0.]]\n"
     ]
    }
   ],
   "source": [
    "b=np.ones((5,5))\n",
    "b=np.pad(b,pad_width=1,mode='constant',constant_values=0)\n",
    "print(b)\n",
    "c[:,[0,-1]]=0\n",
    "c[[0,-1],:]=0\n",
    "print(c)"
   ]
  },
  {
   "cell_type": "code",
   "execution_count": 17,
   "id": "fea62efb",
   "metadata": {},
   "outputs": [
    {
     "name": "stdout",
     "output_type": "stream",
     "text": [
      "[[0 0 0 0 0]\n",
      " [1 0 0 0 0]\n",
      " [0 2 0 0 0]\n",
      " [0 0 3 0 0]\n",
      " [0 0 0 4 0]]\n"
     ]
    }
   ],
   "source": [
    "b=np.diag(1+np.arange(4),k=-1)\n",
    "print(b)"
   ]
  },
  {
   "cell_type": "code",
   "execution_count": 18,
   "id": "7777ff68",
   "metadata": {},
   "outputs": [
    {
     "name": "stdout",
     "output_type": "stream",
     "text": [
      "[[0 1 0 1 0 1]\n",
      " [1 0 1 0 1 0]\n",
      " [0 1 0 1 0 1]\n",
      " [1 0 1 0 1 0]\n",
      " [0 1 0 1 0 1]\n",
      " [1 0 1 0 1 0]]\n"
     ]
    }
   ],
   "source": [
    "c=np.zeros((6,6),dtype=int)\n",
    "c[1::2,::2]=1\n",
    "c[::2,1::2]=1\n",
    "print(c)"
   ]
  },
  {
   "cell_type": "code",
   "execution_count": 19,
   "id": "38fbee96",
   "metadata": {},
   "outputs": [
    {
     "name": "stdout",
     "output_type": "stream",
     "text": [
      "(1, 0, 9)\n"
     ]
    }
   ],
   "source": [
    "print(np.unravel_index(99,(8,9,10)))"
   ]
  },
  {
   "cell_type": "code",
   "execution_count": 20,
   "id": "d2b3e7ad",
   "metadata": {},
   "outputs": [
    {
     "name": "stdout",
     "output_type": "stream",
     "text": [
      "[[0 1]\n",
      " [1 0]]\n",
      "[[0 1 0 1 0 1 0 1]\n",
      " [1 0 1 0 1 0 1 0]\n",
      " [0 1 0 1 0 1 0 1]\n",
      " [1 0 1 0 1 0 1 0]\n",
      " [0 1 0 1 0 1 0 1]\n",
      " [1 0 1 0 1 0 1 0]\n",
      " [0 1 0 1 0 1 0 1]\n",
      " [1 0 1 0 1 0 1 0]]\n"
     ]
    }
   ],
   "source": [
    "a=np.array([[0,1],[1,0]])\n",
    "print(a)\n",
    "b=np.tile(a,(4,4))\n",
    "print(b)"
   ]
  },
  {
   "cell_type": "code",
   "execution_count": 21,
   "id": "3ca015be",
   "metadata": {},
   "outputs": [
    {
     "name": "stdout",
     "output_type": "stream",
     "text": [
      "[[8.64179764e-01 2.81830818e-01 6.39770104e-01 6.30156438e-01\n",
      "  6.21738483e-01 8.38438461e-01]\n",
      " [6.27187087e-01 8.50917934e-01 7.36807598e-01 5.88463244e-01\n",
      "  7.49633802e-01 6.46976711e-02]\n",
      " [2.37418006e-01 7.53626298e-01 2.63364414e-01 5.35065937e-01\n",
      "  4.63830702e-01 9.58738667e-01]\n",
      " [8.85032405e-01 7.60997511e-01 9.25706524e-01 6.22162246e-01\n",
      "  1.15973966e-01 2.19155109e-01]\n",
      " [4.13217189e-01 1.39980437e-02 1.11296459e-02 9.49580346e-01\n",
      "  4.71160200e-01 7.88033411e-01]\n",
      " [5.43171249e-01 1.68042571e-01 8.14411371e-01 7.68754248e-01\n",
      "  4.45123017e-01 5.41070821e-04]]\n",
      "[[ 1.09219646 -0.90089124  0.324155    0.29125226  0.26244183  1.00409692]\n",
      " [ 0.28108966  1.04680789  0.65626557  0.14855741  0.70016322 -1.64402885]\n",
      " [-1.05289397  0.71382752 -0.96409246 -0.03419472 -0.27799712  1.41582406]\n",
      " [ 1.16356457  0.73905548  1.30277164  0.26389216 -1.46853587 -1.11539868]\n",
      " [-0.45122174 -1.81754819 -1.82736527  1.38447973 -0.25291194  0.83158578]\n",
      " [-0.00645432 -1.29033121  0.92186427  0.76560289 -0.34202413 -1.86360464]]\n"
     ]
    }
   ],
   "source": [
    "a=np.random.random((6,6))\n",
    "print(a)\n",
    "b=(a-np.mean(a))/np.std(a)\n",
    "print(b)"
   ]
  },
  {
   "cell_type": "code",
   "execution_count": 23,
   "id": "381ceca5",
   "metadata": {},
   "outputs": [
    {
     "name": "stdout",
     "output_type": "stream",
     "text": [
      "[ 0  1  2  3 -4 -5 -6 -7  8  9 10]\n"
     ]
    }
   ],
   "source": [
    "a=np.arange(11)\n",
    "a[(3<a)&(a<8)]*=-1\n",
    "print(a)"
   ]
  },
  {
   "cell_type": "code",
   "execution_count": 24,
   "id": "600a817f",
   "metadata": {},
   "outputs": [
    {
     "name": "stdout",
     "output_type": "stream",
     "text": [
      "[ 2.07863216 -0.60999139  8.3995601   2.20165435  4.89982157 -3.74133584\n",
      " -0.67982844 -9.14336325 -9.30567946 -8.19846299]\n",
      "[  3.  -1.   9.   3.   5.  -4.  -1. -10. -10.  -9.]\n",
      "[  3.  -1.   9.   3.   5.  -4.  -1. -10. -10.  -9.]\n"
     ]
    }
   ],
   "source": [
    "a=np.random.uniform(-10,+10,10)\n",
    "print(a)\n",
    "print(np.copysign(np.ceil(np.abs(a)),a))\n",
    "print(np.where(a>0,np.ceil(a),np.floor(a)))"
   ]
  },
  {
   "cell_type": "code",
   "execution_count": 25,
   "id": "d7f3003b",
   "metadata": {},
   "outputs": [
    {
     "name": "stdout",
     "output_type": "stream",
     "text": [
      "[2 3 1 3 9 7 7 7 3 5] [4 8 5 1 6 2 1 5 5 6]\n",
      "[1 2 5]\n"
     ]
    }
   ],
   "source": [
    "a=np.random.randint(0,10,10)\n",
    "b=np.random.randint(0,10,10)\n",
    "print(a,b)\n",
    "print(np.intersect1d(a,b))"
   ]
  },
  {
   "cell_type": "code",
   "execution_count": 26,
   "id": "03b2fcc7",
   "metadata": {},
   "outputs": [
    {
     "name": "stdout",
     "output_type": "stream",
     "text": [
      "2022-05-02 2022-05-02 2022-05-02\n"
     ]
    }
   ],
   "source": [
    "yesterday=np.datetime64('today')\n",
    "today=np.datetime64('today')\n",
    "tomorrow=np.datetime64('today')\n",
    "print(yesterday,today,tomorrow)"
   ]
  },
  {
   "cell_type": "code",
   "execution_count": 27,
   "id": "9612a468",
   "metadata": {},
   "outputs": [
    {
     "name": "stdout",
     "output_type": "stream",
     "text": [
      "['2016-01-01' '2016-01-02' '2016-01-03' '2016-01-04' '2016-01-05'\n",
      " '2016-01-06' '2016-01-07' '2016-01-08' '2016-01-09' '2016-01-10'\n",
      " '2016-01-11' '2016-01-12' '2016-01-13' '2016-01-14' '2016-01-15'\n",
      " '2016-01-16' '2016-01-17' '2016-01-18' '2016-01-19' '2016-01-20'\n",
      " '2016-01-21' '2016-01-22' '2016-01-23' '2016-01-24' '2016-01-25'\n",
      " '2016-01-26' '2016-01-27' '2016-01-28' '2016-01-29' '2016-01-30'\n",
      " '2016-01-31']\n"
     ]
    }
   ],
   "source": [
    "a=np.arange('2016-01','2016-02',dtype='datetime64[D]')\n",
    "print(a)"
   ]
  },
  {
   "cell_type": "code",
   "execution_count": 28,
   "id": "35420e1f",
   "metadata": {},
   "outputs": [
    {
     "name": "stdout",
     "output_type": "stream",
     "text": [
      "[1. 1. 1.] [2. 2. 2.]\n",
      "[1. 1. 1.] [3. 3. 3.]\n",
      "[0.5 0.5 0.5] [3. 3. 3.]\n",
      "[-0.5 -0.5 -0.5] [3. 3. 3.]\n",
      "[-1.5 -1.5 -1.5] [3. 3. 3.]\n"
     ]
    }
   ],
   "source": [
    "A=np.ones(3)*1\n",
    "B=np.ones(3)*2\n",
    "print(A,B)\n",
    "np.add(A,B,out=B)\n",
    "print(A,B)\n",
    "np.divide(A,2,out=A)\n",
    "print(A,B)\n",
    "np.negative(A,out=A)\n",
    "print(A,B)\n",
    "np.multiply(A,B,out=A)\n",
    "print(A,B)"
   ]
  },
  {
   "cell_type": "code",
   "execution_count": 29,
   "id": "334b7471",
   "metadata": {},
   "outputs": [
    {
     "name": "stdout",
     "output_type": "stream",
     "text": [
      "[9. 7. 4. 1. 9. 4. 1. 5. 4. 5.]\n",
      "[9. 7. 4. 1. 9. 4. 1. 5. 4. 5.]\n",
      "[9. 7. 4. 1. 9. 4. 1. 5. 4. 5.]\n",
      "[9 7 4 1 9 4 1 5 4 5]\n",
      "[9. 7. 4. 1. 9. 4. 1. 5. 4. 5.]\n"
     ]
    }
   ],
   "source": [
    "a=np.random.uniform(0,10,10)\n",
    "print(a-a%1)\n",
    "print(a//1)\n",
    "print(np.floor(a))\n",
    "print(a.astype(int))\n",
    "print(np.trunc(a))"
   ]
  },
  {
   "cell_type": "code",
   "execution_count": 30,
   "id": "983ec058",
   "metadata": {},
   "outputs": [
    {
     "name": "stdout",
     "output_type": "stream",
     "text": [
      "[[0. 1. 2.]\n",
      " [0. 1. 2.]\n",
      " [0. 1. 2.]]\n",
      "[[0 1 2]\n",
      " [0 1 2]\n",
      " [0 1 2]]\n"
     ]
    }
   ],
   "source": [
    "a=np.zeros((3,3))\n",
    "a+=np.arange(3)\n",
    "print(a)\n",
    "a=np.tile(np.arange(0,3),(3,1))\n",
    "print(a)"
   ]
  },
  {
   "cell_type": "code",
   "execution_count": 31,
   "id": "eb540a9b",
   "metadata": {},
   "outputs": [
    {
     "name": "stdout",
     "output_type": "stream",
     "text": [
      "[0. 1. 2. 3. 4. 5. 6. 7. 8.]\n"
     ]
    }
   ],
   "source": [
    "def generate():\n",
    "    for x in range(9):\n",
    "        yield x\n",
    "a=np.fromiter(generate(),dtype=float,count=-1)\n",
    "print(a)"
   ]
  },
  {
   "cell_type": "code",
   "execution_count": 32,
   "id": "bf764632",
   "metadata": {},
   "outputs": [
    {
     "name": "stdout",
     "output_type": "stream",
     "text": [
      "[0.09090909 0.18181818 0.27272727 0.36363636 0.45454545 0.54545455\n",
      " 0.63636364 0.72727273 0.81818182 0.90909091]\n"
     ]
    }
   ],
   "source": [
    "a=np.linspace(0,1,11,endpoint=False)[1:]\n",
    "print(a)"
   ]
  },
  {
   "cell_type": "code",
   "execution_count": 33,
   "id": "7d214c14",
   "metadata": {},
   "outputs": [
    {
     "name": "stdout",
     "output_type": "stream",
     "text": [
      "[0.00266973 0.50320896 0.56029307 0.52105365 0.55319939 0.48594079\n",
      " 0.93600514 0.97135666 0.85943858 0.54905937]\n",
      "[0.00266973 0.48594079 0.50320896 0.52105365 0.54905937 0.55319939\n",
      " 0.56029307 0.85943858 0.93600514 0.97135666]\n"
     ]
    }
   ],
   "source": [
    "a=np.random.random(10)\n",
    "print(a)\n",
    "a=np.sort(a)\n",
    "print(a)"
   ]
  },
  {
   "cell_type": "code",
   "execution_count": 34,
   "id": "74466c5e",
   "metadata": {},
   "outputs": [
    {
     "name": "stdout",
     "output_type": "stream",
     "text": [
      "[0 1 2 3 4 5 6 7 8 9]\n"
     ]
    }
   ],
   "source": [
    "a=np.arange(10)\n",
    "np.add.reduce(a)\n",
    "print(a)"
   ]
  },
  {
   "cell_type": "code",
   "execution_count": 35,
   "id": "f329e374",
   "metadata": {},
   "outputs": [
    {
     "name": "stdout",
     "output_type": "stream",
     "text": [
      "False\n",
      "False\n"
     ]
    }
   ],
   "source": [
    "a=np.random.randint(1,3,6)\n",
    "b=np.random.randint(1,3,6)\n",
    "equal=np.allclose(a,b)\n",
    "print(equal)\n",
    "equal=np.array_equal(a,b)\n",
    "print(equal)"
   ]
  },
  {
   "cell_type": "code",
   "execution_count": 36,
   "id": "365fd5a2",
   "metadata": {},
   "outputs": [
    {
     "name": "stdout",
     "output_type": "stream",
     "text": [
      "[0.42279861 0.9970636  0.44157177 0.89923966 0.63840056]\n",
      "[0.63951418 1.04442274 1.31787717 1.39138361 0.27808912]\n"
     ]
    }
   ],
   "source": [
    "a=np.random.random((5,2))\n",
    "x,y=a[:,0],a[:,1]\n",
    "r=np.sqrt(x**2+y**2)\n",
    "t=np.arctan2(y,x)\n",
    "print(r)\n",
    "print(t)"
   ]
  },
  {
   "cell_type": "code",
   "execution_count": 37,
   "id": "3774f43b",
   "metadata": {},
   "outputs": [
    {
     "name": "stdout",
     "output_type": "stream",
     "text": [
      "[0.60863872 0.32792228 0.84223158 0.20449781 0.55696625]\n",
      "[0.60863872 0.32792228 0.         0.20449781 0.55696625]\n"
     ]
    }
   ],
   "source": [
    "a=np.random.random(5)\n",
    "print(a)\n",
    "a[a.argmax()]=0\n",
    "print(a)"
   ]
  },
  {
   "cell_type": "code",
   "execution_count": 38,
   "id": "4d4c68da",
   "metadata": {},
   "outputs": [
    {
     "name": "stdout",
     "output_type": "stream",
     "text": [
      "[[(0. , 0. ) (0.5, 0. ) (1. , 0. )]\n",
      " [(0. , 0.5) (0.5, 0.5) (1. , 0.5)]\n",
      " [(0. , 1. ) (0.5, 1. ) (1. , 1. )]]\n"
     ]
    }
   ],
   "source": [
    "a=np.zeros((3,3),[('x',float),('y',float)])\n",
    "a['x'],a['y']=np.meshgrid(np.linspace(0,1,3),np.linspace(0,1,3))\n",
    "print(a)"
   ]
  },
  {
   "cell_type": "code",
   "execution_count": null,
   "id": "8e9a82ff",
   "metadata": {},
   "outputs": [],
   "source": []
  }
 ],
 "metadata": {
  "kernelspec": {
   "display_name": "Python 3",
   "language": "python",
   "name": "python3"
  },
  "language_info": {
   "codemirror_mode": {
    "name": "ipython",
    "version": 3
   },
   "file_extension": ".py",
   "mimetype": "text/x-python",
   "name": "python",
   "nbconvert_exporter": "python",
   "pygments_lexer": "ipython3",
   "version": "3.8.8"
  }
 },
 "nbformat": 4,
 "nbformat_minor": 5
}
